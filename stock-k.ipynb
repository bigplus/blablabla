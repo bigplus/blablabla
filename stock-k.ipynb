{
 "cells": [
  {
   "cell_type": "code",
   "execution_count": 1,
   "metadata": {},
   "outputs": [
    {
     "ename": "ModuleNotFoundError",
     "evalue": "No module named 'tushare'",
     "output_type": "error",
     "traceback": [
      "\u001b[0;31m---------------------------------------------------------------------------\u001b[0m",
      "\u001b[0;31mModuleNotFoundError\u001b[0m                       Traceback (most recent call last)",
      "\u001b[0;32m<ipython-input-1-9af297957e66>\u001b[0m in \u001b[0;36m<module>\u001b[0;34m()\u001b[0m\n\u001b[1;32m      1\u001b[0m \u001b[0;31m# 导入需要的库\u001b[0m\u001b[0;34m\u001b[0m\u001b[0;34m\u001b[0m\u001b[0m\n\u001b[0;32m----> 2\u001b[0;31m \u001b[0;32mimport\u001b[0m \u001b[0mtushare\u001b[0m \u001b[0;32mas\u001b[0m \u001b[0mts\u001b[0m\u001b[0;34m\u001b[0m\u001b[0m\n\u001b[0m\u001b[1;32m      3\u001b[0m \u001b[0;32mimport\u001b[0m \u001b[0mmatplotlib\u001b[0m\u001b[0;34m.\u001b[0m\u001b[0mpyplot\u001b[0m \u001b[0;32mas\u001b[0m \u001b[0mplt\u001b[0m\u001b[0;34m\u001b[0m\u001b[0m\n\u001b[1;32m      4\u001b[0m \u001b[0;32mimport\u001b[0m \u001b[0mmatplotlib\u001b[0m\u001b[0;34m.\u001b[0m\u001b[0mfinance\u001b[0m \u001b[0;32mas\u001b[0m \u001b[0mmpf\u001b[0m\u001b[0;34m\u001b[0m\u001b[0m\n\u001b[1;32m      5\u001b[0m \u001b[0;34m\u001b[0m\u001b[0m\n",
      "\u001b[0;31mModuleNotFoundError\u001b[0m: No module named 'tushare'"
     ]
    }
   ],
   "source": [
    "# 导入需要的库\n",
    "import tushare as ts\n",
    "import matplotlib.pyplot as plt\n",
    "import matplotlib.finance as mpf\n",
    " \n",
    "%matplotlib inline\n",
    " \n",
    "# 设置历史数据区间\n",
    "date1 = (2014, 12, 1) # 起始日期，格式：(年，月，日)元组\n",
    "date2 = (2016, 12, 1)  # 结束日期，格式：(年，月，日)元组\n",
    "# 从雅虎财经中获取股票代码601558的历史行情\n",
    "quotes = mpf.quotes_historical_yahoo_ohlc('601558.ss', date1, date2)\n",
    " \n",
    "# 创建一个子图 \n",
    "fig, ax = plt.subplots(facecolor=(0.5, 0.5, 0.5))\n",
    "fig.subplots_adjust(bottom=0.2)\n",
    "# 设置X轴刻度为日期时间\n",
    "ax.xaxis_date()\n",
    "# X轴刻度文字倾斜45度\n",
    "plt.xticks(rotation=45)\n",
    "plt.title(\"股票代码：601558两年K线图\")\n",
    "plt.xlabel(\"时间\")\n",
    "plt.ylabel(\"股价（元）\")\n",
    "mpf.candlestick_ohlc(ax,quotes,width=1.2,colorup='r',colordown='green')\n",
    "plt.grid(True)"
   ]
  },
  {
   "cell_type": "code",
   "execution_count": null,
   "metadata": {
    "collapsed": true
   },
   "outputs": [],
   "source": []
  }
 ],
 "metadata": {
  "kernelspec": {
   "display_name": "Python 3",
   "language": "python",
   "name": "python3"
  },
  "language_info": {
   "codemirror_mode": {
    "name": "ipython",
    "version": 3
   },
   "file_extension": ".py",
   "mimetype": "text/x-python",
   "name": "python",
   "nbconvert_exporter": "python",
   "pygments_lexer": "ipython3",
   "version": "3.6.0"
  }
 },
 "nbformat": 4,
 "nbformat_minor": 2
}
